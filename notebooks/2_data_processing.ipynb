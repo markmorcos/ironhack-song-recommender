{
 "cells": [
  {
   "cell_type": "code",
   "execution_count": 31,
   "metadata": {},
   "outputs": [],
   "source": [
    "import sys\n",
    "sys.path.append('..')\n",
    "\n",
    "%reload_ext autoreload\n",
    "%autoreload 2\n",
    "\n",
    "import pandas as pd\n",
    "from utils.functions import clean_million_songs_df, clean_billboard_df"
   ]
  },
  {
   "cell_type": "code",
   "execution_count": 32,
   "metadata": {},
   "outputs": [],
   "source": [
    "\n",
    "billboard_df = pd.read_csv('../data/1_hot100.csv')\n",
    "billboard_df = clean_billboard_df(billboard_df)\n",
    "\n",
    "million_song_df = pd.read_csv(\"../data/2_million_song_subset.csv\", sep=\";\")\n",
    "million_song_df = clean_million_songs_df(million_song_df)\n",
    "\n",
    "combined_df = pd.concat([billboard_df, million_song_df])\n",
    "\n",
    "combined_df[\"isHot\"] = combined_df[\"title\"].isin(billboard_df[\"title\"])"
   ]
  },
  {
   "cell_type": "code",
   "execution_count": 33,
   "metadata": {},
   "outputs": [],
   "source": [
    "combined_df = combined_df.drop_duplicates(subset=[\"title\", \"artist\"], keep=\"first\")\n",
    "\n",
    "combined_df.to_csv(\"../data/3_combined_clean_dataset.csv\", index=False)"
   ]
  }
 ],
 "metadata": {
  "kernelspec": {
   "display_name": ".venv",
   "language": "python",
   "name": "python3"
  },
  "language_info": {
   "codemirror_mode": {
    "name": "ipython",
    "version": 3
   },
   "file_extension": ".py",
   "mimetype": "text/x-python",
   "name": "python",
   "nbconvert_exporter": "python",
   "pygments_lexer": "ipython3",
   "version": "3.12.2"
  }
 },
 "nbformat": 4,
 "nbformat_minor": 2
}
